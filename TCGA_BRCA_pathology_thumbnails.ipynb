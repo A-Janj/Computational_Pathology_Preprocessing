{
  "nbformat": 4,
  "nbformat_minor": 0,
  "metadata": {
    "kernelspec": {
      "display_name": "Python 3",
      "language": "python",
      "name": "python3"
    },
    "language_info": {
      "codemirror_mode": {
        "name": "ipython",
        "version": 3
      },
      "file_extension": ".py",
      "mimetype": "text/x-python",
      "name": "python",
      "nbconvert_exporter": "python",
      "pygments_lexer": "ipython3",
      "version": "3.6.1"
    },
    "colab": {
      "name": "TCGA-BRCA-pathology_thumbnails.ipynb",
      "provenance": [],
      "collapsed_sections": [],
      "include_colab_link": true
    }
  },
  "cells": [
    {
      "cell_type": "markdown",
      "metadata": {
        "id": "view-in-github",
        "colab_type": "text"
      },
      "source": [
        "<a href=\"https://colab.research.google.com/github/A-Janj/Computational_Pathology_Preprocessing/blob/main/TCGA_BRCA_pathology_thumbnails.ipynb\" target=\"_parent\"><img src=\"https://colab.research.google.com/assets/colab-badge.svg\" alt=\"Open In Colab\"/></a>"
      ]
    },
    {
      "cell_type": "code",
      "metadata": {
        "colab": {
          "base_uri": "https://localhost:8080/"
        },
        "id": "j7Oa4R-vy8hD",
        "outputId": "a7e229a3-4dae-481e-97d7-f6d8c524027f"
      },
      "source": [
        "print(\"Bismillah\")"
      ],
      "execution_count": null,
      "outputs": [
        {
          "output_type": "stream",
          "text": [
            "Bismillah\n"
          ],
          "name": "stdout"
        }
      ]
    },
    {
      "cell_type": "markdown",
      "metadata": {
        "id": "d07e4ouf3_Su"
      },
      "source": [
        "# **Installations**"
      ]
    },
    {
      "cell_type": "code",
      "metadata": {
        "colab": {
          "base_uri": "https://localhost:8080/"
        },
        "id": "sx4Ji4Ljy3di",
        "outputId": "5532ba97-507d-4bc5-ddf5-b51bab2ef642"
      },
      "source": [
        "!pip install pyspark\n",
        "!pip install -U -q PyDrive\n",
        "!apt install openjdk-8-jdk-headless -qq\n",
        "import os\n",
        "os.environ[\"JAVA_HOME\"] = \"/usr/lib/jvm/java-8-openjdk-amd64\""
      ],
      "execution_count": null,
      "outputs": [
        {
          "output_type": "stream",
          "text": [
            "Collecting pyspark\n",
            "  Downloading pyspark-3.1.2.tar.gz (212.4 MB)\n",
            "\u001b[K     |████████████████████████████████| 212.4 MB 59 kB/s \n",
            "\u001b[?25hCollecting py4j==0.10.9\n",
            "  Downloading py4j-0.10.9-py2.py3-none-any.whl (198 kB)\n",
            "\u001b[K     |████████████████████████████████| 198 kB 55.2 MB/s \n",
            "\u001b[?25hBuilding wheels for collected packages: pyspark\n",
            "  Building wheel for pyspark (setup.py) ... \u001b[?25l\u001b[?25hdone\n",
            "  Created wheel for pyspark: filename=pyspark-3.1.2-py2.py3-none-any.whl size=212880768 sha256=12c9d58a978df6c5213d80bb5365dfde4c5ceecfdcb656d63de0ecdd1a463f53\n",
            "  Stored in directory: /root/.cache/pip/wheels/a5/0a/c1/9561f6fecb759579a7d863dcd846daaa95f598744e71b02c77\n",
            "Successfully built pyspark\n",
            "Installing collected packages: py4j, pyspark\n",
            "Successfully installed py4j-0.10.9 pyspark-3.1.2\n",
            "The following additional packages will be installed:\n",
            "  openjdk-8-jre-headless\n",
            "Suggested packages:\n",
            "  openjdk-8-demo openjdk-8-source libnss-mdns fonts-dejavu-extra\n",
            "  fonts-ipafont-gothic fonts-ipafont-mincho fonts-wqy-microhei\n",
            "  fonts-wqy-zenhei fonts-indic\n",
            "The following NEW packages will be installed:\n",
            "  openjdk-8-jdk-headless openjdk-8-jre-headless\n",
            "0 upgraded, 2 newly installed, 0 to remove and 40 not upgraded.\n",
            "Need to get 36.5 MB of archives.\n",
            "After this operation, 143 MB of additional disk space will be used.\n",
            "Selecting previously unselected package openjdk-8-jre-headless:amd64.\n",
            "(Reading database ... 160837 files and directories currently installed.)\n",
            "Preparing to unpack .../openjdk-8-jre-headless_8u292-b10-0ubuntu1~18.04_amd64.deb ...\n",
            "Unpacking openjdk-8-jre-headless:amd64 (8u292-b10-0ubuntu1~18.04) ...\n",
            "Selecting previously unselected package openjdk-8-jdk-headless:amd64.\n",
            "Preparing to unpack .../openjdk-8-jdk-headless_8u292-b10-0ubuntu1~18.04_amd64.deb ...\n",
            "Unpacking openjdk-8-jdk-headless:amd64 (8u292-b10-0ubuntu1~18.04) ...\n",
            "Setting up openjdk-8-jre-headless:amd64 (8u292-b10-0ubuntu1~18.04) ...\n",
            "update-alternatives: using /usr/lib/jvm/java-8-openjdk-amd64/jre/bin/orbd to provide /usr/bin/orbd (orbd) in auto mode\n",
            "update-alternatives: using /usr/lib/jvm/java-8-openjdk-amd64/jre/bin/servertool to provide /usr/bin/servertool (servertool) in auto mode\n",
            "update-alternatives: using /usr/lib/jvm/java-8-openjdk-amd64/jre/bin/tnameserv to provide /usr/bin/tnameserv (tnameserv) in auto mode\n",
            "Setting up openjdk-8-jdk-headless:amd64 (8u292-b10-0ubuntu1~18.04) ...\n",
            "update-alternatives: using /usr/lib/jvm/java-8-openjdk-amd64/bin/idlj to provide /usr/bin/idlj (idlj) in auto mode\n",
            "update-alternatives: using /usr/lib/jvm/java-8-openjdk-amd64/bin/wsimport to provide /usr/bin/wsimport (wsimport) in auto mode\n",
            "update-alternatives: using /usr/lib/jvm/java-8-openjdk-amd64/bin/jsadebugd to provide /usr/bin/jsadebugd (jsadebugd) in auto mode\n",
            "update-alternatives: using /usr/lib/jvm/java-8-openjdk-amd64/bin/native2ascii to provide /usr/bin/native2ascii (native2ascii) in auto mode\n",
            "update-alternatives: using /usr/lib/jvm/java-8-openjdk-amd64/bin/javah to provide /usr/bin/javah (javah) in auto mode\n",
            "update-alternatives: using /usr/lib/jvm/java-8-openjdk-amd64/bin/hsdb to provide /usr/bin/hsdb (hsdb) in auto mode\n",
            "update-alternatives: using /usr/lib/jvm/java-8-openjdk-amd64/bin/clhsdb to provide /usr/bin/clhsdb (clhsdb) in auto mode\n",
            "update-alternatives: using /usr/lib/jvm/java-8-openjdk-amd64/bin/extcheck to provide /usr/bin/extcheck (extcheck) in auto mode\n",
            "update-alternatives: using /usr/lib/jvm/java-8-openjdk-amd64/bin/schemagen to provide /usr/bin/schemagen (schemagen) in auto mode\n",
            "update-alternatives: using /usr/lib/jvm/java-8-openjdk-amd64/bin/xjc to provide /usr/bin/xjc (xjc) in auto mode\n",
            "update-alternatives: using /usr/lib/jvm/java-8-openjdk-amd64/bin/jhat to provide /usr/bin/jhat (jhat) in auto mode\n",
            "update-alternatives: using /usr/lib/jvm/java-8-openjdk-amd64/bin/wsgen to provide /usr/bin/wsgen (wsgen) in auto mode\n"
          ],
          "name": "stdout"
        }
      ]
    },
    {
      "cell_type": "code",
      "metadata": {
        "colab": {
          "base_uri": "https://localhost:8080/"
        },
        "id": "hIIvKPgwIeLY",
        "outputId": "5e780c2d-3ba6-4beb-ea2c-bb1edb976111"
      },
      "source": [
        "from google.colab import drive\n",
        "drive.mount('/content/drive')"
      ],
      "execution_count": null,
      "outputs": [
        {
          "output_type": "stream",
          "text": [
            "Drive already mounted at /content/drive; to attempt to forcibly remount, call drive.mount(\"/content/drive\", force_remount=True).\n"
          ],
          "name": "stdout"
        }
      ]
    },
    {
      "cell_type": "code",
      "metadata": {
        "id": "RB4XhI_6zLxJ"
      },
      "source": [
        "# Let's import the libraries we will need\n",
        "# import pandas as pd\n",
        "# import numpy as np\n",
        "# import matplotlib.pyplot as plt\n",
        "# %matplotlib inline\n",
        "\n",
        "import pyspark\n",
        "from pyspark.sql import *\n",
        "from pyspark.sql.functions import *\n",
        "from pyspark import SparkContext, SparkConf\n",
        "import re"
      ],
      "execution_count": null,
      "outputs": []
    },
    {
      "cell_type": "code",
      "metadata": {
        "colab": {
          "base_uri": "https://localhost:8080/"
        },
        "id": "0DdhdZOPrgXb",
        "outputId": "919675cd-4b8a-40a0-ac00-5e4f9127df2a"
      },
      "source": [
        "!sudo add-apt-repository ppa:webupd8team/java\n",
        "!sudo apt-get update\n",
        "!sudo apt-get install oracle-java8-installer"
      ],
      "execution_count": null,
      "outputs": [
        {
          "output_type": "stream",
          "text": [
            " The Oracle JDK License has changed for releases starting April 16, 2019.\n",
            "\n",
            "The new Oracle Technology Network License Agreement for Oracle Java SE is substantially different from prior Oracle JDK licenses. The new license permits certain uses, such as personal use and development use, at no cost -- but other uses authorized under prior Oracle JDK licenses may no longer be available. Please review the terms carefully before downloading and using this product. An FAQ is available here: https://www.oracle.com/technetwork/java/javase/overview/oracle-jdk-faqs.html\n",
            "\n",
            "Oracle Java downloads now require logging in to an Oracle account to download Java updates, like the latest Oracle Java 8u211 / Java SE 8u212. Because of this I cannot update the PPA with the latest Java (and the old links were broken by Oracle).\n",
            "\n",
            "For this reason, THIS PPA IS DISCONTINUED.\n",
            "\n",
            "For Oracle Java 11, see a different PPA -> https://www.linuxuprising.com/2019/06/new-oracle-java-11-installer-for-ubuntu.html\n",
            "\n",
            "That same PPA also has Oracle Java 13 -> https://www.linuxuprising.com/2019/09/install-oracle-java-13-on-ubuntu-linux.html\n",
            "\n",
            "and Oracle Java 14 -> \n",
            "https://www.linuxuprising.com/2020/03/how-to-install-oracle-java-14-jdk14-on.html\n",
            "\n",
            "Old description:\n",
            "\n",
            "Oracle Java (JDK) Installer (automatically downloads and installs Oracle JDK8). There are no actual Java files in this PPA.\n",
            "\n",
            "Important -> Why Oracle Java 7 And 6 Installers No Longer Work: http://www.webupd8.org/2017/06/why-oracle-java-7-and-6-installers-no.html\n",
            "\n",
            "Update: Oracle Java 9 has reached end of life: http://www.oracle.com/technetwork/java/javase/downloads/jdk9-downloads-3848520.html\n",
            "\n",
            "The PPA supports Ubuntu 18.10, 18.04, 16.04, 14.04 and 12.04.\n",
            "\n",
            "More info (and Ubuntu installation instructions):\n",
            "- http://www.webupd8.org/2012/09/install-oracle-java-8-in-ubuntu-via-ppa.html\n",
            "\n",
            "Debian installation instructions:\n",
            "- Oracle Java 8: http://www.webupd8.org/2014/03/how-to-install-oracle-java-8-in-debian.html\n",
            " More info: https://launchpad.net/~webupd8team/+archive/ubuntu/java\n",
            "Press [ENTER] to continue or Ctrl-c to cancel adding it.\n",
            "\n",
            "\n",
            "Get:1 https://cloud.r-project.org/bin/linux/ubuntu bionic-cran40/ InRelease [3,626 B]\n",
            "Ign:2 https://developer.download.nvidia.com/compute/cuda/repos/ubuntu1804/x86_64  InRelease\n",
            "Get:3 https://cloud.r-project.org/bin/linux/ubuntu bionic-cran40/ Packages [62.9 kB]\n",
            "Get:4 http://security.ubuntu.com/ubuntu bionic-security InRelease [88.7 kB]\n",
            "Ign:5 https://developer.download.nvidia.com/compute/machine-learning/repos/ubuntu1804/x86_64  InRelease\n",
            "Get:6 https://developer.download.nvidia.com/compute/cuda/repos/ubuntu1804/x86_64  Release [697 B]\n",
            "Hit:7 https://developer.download.nvidia.com/compute/machine-learning/repos/ubuntu1804/x86_64  Release\n",
            "Hit:8 http://archive.ubuntu.com/ubuntu bionic InRelease\n",
            "Get:9 http://ppa.launchpad.net/c2d4u.team/c2d4u4.0+/ubuntu bionic InRelease [15.9 kB]\n",
            "Get:10 https://developer.download.nvidia.com/compute/cuda/repos/ubuntu1804/x86_64  Release.gpg [836 B]\n",
            "Get:12 http://archive.ubuntu.com/ubuntu bionic-updates InRelease [88.7 kB]\n",
            "Ign:13 https://developer.download.nvidia.com/compute/cuda/repos/ubuntu1804/x86_64  Packages\n",
            "Get:13 https://developer.download.nvidia.com/compute/cuda/repos/ubuntu1804/x86_64  Packages [695 kB]\n",
            "Hit:14 http://ppa.launchpad.net/cran/libgit2/ubuntu bionic InRelease\n",
            "Get:15 http://security.ubuntu.com/ubuntu bionic-security/universe amd64 Packages [1,420 kB]\n",
            "Get:16 http://archive.ubuntu.com/ubuntu bionic-backports InRelease [74.6 kB]\n",
            "Hit:17 http://ppa.launchpad.net/deadsnakes/ppa/ubuntu bionic InRelease\n",
            "Get:18 http://archive.ubuntu.com/ubuntu bionic-updates/restricted amd64 Packages [544 kB]\n",
            "Get:19 http://ppa.launchpad.net/graphics-drivers/ppa/ubuntu bionic InRelease [21.3 kB]\n",
            "Get:20 http://security.ubuntu.com/ubuntu bionic-security/main amd64 Packages [2,263 kB]\n",
            "Get:21 http://security.ubuntu.com/ubuntu bionic-security/multiverse amd64 Packages [26.7 kB]\n",
            "Get:22 http://security.ubuntu.com/ubuntu bionic-security/restricted amd64 Packages [510 kB]\n",
            "Get:23 http://archive.ubuntu.com/ubuntu bionic-updates/universe amd64 Packages [2,195 kB]\n",
            "Get:24 http://ppa.launchpad.net/webupd8team/java/ubuntu bionic InRelease [15.4 kB]\n",
            "Get:25 http://archive.ubuntu.com/ubuntu bionic-updates/main amd64 Packages [2,698 kB]\n",
            "Get:26 http://archive.ubuntu.com/ubuntu bionic-updates/multiverse amd64 Packages [39.4 kB]\n",
            "Get:27 http://ppa.launchpad.net/c2d4u.team/c2d4u4.0+/ubuntu bionic/main Sources [1,786 kB]\n",
            "Get:28 http://ppa.launchpad.net/c2d4u.team/c2d4u4.0+/ubuntu bionic/main amd64 Packages [914 kB]\n",
            "Get:29 http://ppa.launchpad.net/graphics-drivers/ppa/ubuntu bionic/main amd64 Packages [44.1 kB]\n",
            "Fetched 13.5 MB in 8s (1,742 kB/s)\n",
            "Reading package lists... Done\n",
            "Hit:1 https://cloud.r-project.org/bin/linux/ubuntu bionic-cran40/ InRelease\n",
            "Ign:2 https://developer.download.nvidia.com/compute/cuda/repos/ubuntu1804/x86_64  InRelease\n",
            "Hit:3 http://security.ubuntu.com/ubuntu bionic-security InRelease\n",
            "Ign:4 https://developer.download.nvidia.com/compute/machine-learning/repos/ubuntu1804/x86_64  InRelease\n",
            "Hit:5 https://developer.download.nvidia.com/compute/cuda/repos/ubuntu1804/x86_64  Release\n",
            "Hit:6 https://developer.download.nvidia.com/compute/machine-learning/repos/ubuntu1804/x86_64  Release\n",
            "Hit:7 http://ppa.launchpad.net/c2d4u.team/c2d4u4.0+/ubuntu bionic InRelease\n",
            "Hit:8 http://archive.ubuntu.com/ubuntu bionic InRelease\n",
            "Hit:11 http://archive.ubuntu.com/ubuntu bionic-updates InRelease\n",
            "Hit:12 http://ppa.launchpad.net/cran/libgit2/ubuntu bionic InRelease\n",
            "Hit:13 http://archive.ubuntu.com/ubuntu bionic-backports InRelease\n",
            "Hit:14 http://ppa.launchpad.net/deadsnakes/ppa/ubuntu bionic InRelease\n",
            "Hit:15 http://ppa.launchpad.net/graphics-drivers/ppa/ubuntu bionic InRelease\n",
            "Hit:16 http://ppa.launchpad.net/webupd8team/java/ubuntu bionic InRelease\n",
            "Reading package lists... Done\n",
            "Reading package lists... Done\n",
            "Building dependency tree       \n",
            "Reading state information... Done\n",
            "Package oracle-java8-installer is not available, but is referred to by another package.\n",
            "This may mean that the package is missing, has been obsoleted, or\n",
            "is only available from another source\n",
            "\n",
            "E: Package 'oracle-java8-installer' has no installation candidate\n"
          ],
          "name": "stdout"
        }
      ]
    },
    {
      "cell_type": "code",
      "metadata": {
        "collapsed": true,
        "id": "C_LwBwctyeRs"
      },
      "source": [
        "# # Import and create a new SQLContext \n",
        "# from pyspark.sql import SQLContext\n",
        "\n",
        "# create the session\n",
        "conf = SparkConf().set(\"spark.ui.port\", \"4050\")\n",
        "\n",
        "# create the context\n",
        "sc = pyspark.SparkContext(conf=conf)\n",
        "spark = SparkSession.builder.getOrCreate()\n",
        "sqlContext = SQLContext(sc)"
      ],
      "execution_count": null,
      "outputs": []
    },
    {
      "cell_type": "markdown",
      "metadata": {
        "id": "H3FjxcEO4SUz"
      },
      "source": [
        "# **Pre-Processing**"
      ]
    },
    {
      "cell_type": "code",
      "metadata": {
        "id": "Fp-8Gw1yM2DZ"
      },
      "source": [
        "from pyspark.sql import SparkSession\n",
        "#Create PySpark SparkSession\n",
        "spark = SparkSession.builder \\\n",
        "    .master(\"local[1]\") \\\n",
        "    .appName(\"SparkByExamples.com\") \\\n",
        "    .getOrCreate()\n"
      ],
      "execution_count": null,
      "outputs": []
    },
    {
      "cell_type": "code",
      "metadata": {
        "colab": {
          "base_uri": "https://localhost:8080/"
        },
        "id": "Jzq1ejYd_CKl",
        "outputId": "2e63ccb6-5d5f-4d5c-a9af-f4a69b2439a7"
      },
      "source": [
        "tcga_file_path = \"/content/drive/MyDrive/AIDPath/TCGA-BRCA Data1.csv\"\n",
        "thumbnails_path = \"/content/drive/MyDrive/AIDPath/Thubnail_list.csv\"\n",
        "\n",
        "import pandas as pd\n",
        "thumnails_list_panda = pd.read_csv(thumbnails_path)\n",
        "thubnail_list = thumnails_list_panda[\"0\"].tolist()\n",
        "# print(type(thumnails_list_panda))\n",
        "\n",
        "tcga_table = spark.read.csv(tcga_file_path, header= True)\n",
        "tcga_table.printSchema()\n",
        "tcga_table.show()\n",
        "tcga_table.count()"
      ],
      "execution_count": null,
      "outputs": [
        {
          "output_type": "stream",
          "text": [
            "root\n",
            " |-- id: string (nullable = true)\n",
            " |-- Name: string (nullable = true)\n",
            " |-- Type: string (nullable = true)\n",
            " |-- age_at_initial_pathologic_diagnosis: string (nullable = true)\n",
            " |-- gender: string (nullable = true)\n",
            " |-- race: string (nullable = true)\n",
            " |-- ajcc_pathologic_tumor_stage6: string (nullable = true)\n",
            " |-- ajcc_pathologic_tumor_stage7: string (nullable = true)\n",
            " |-- clinical_stage: string (nullable = true)\n",
            " |-- histological_type: string (nullable = true)\n",
            " |-- histological_grade: string (nullable = true)\n",
            " |-- _c11: string (nullable = true)\n",
            " |-- _c12: string (nullable = true)\n",
            " |-- _c13: string (nullable = true)\n",
            " |-- _c14: string (nullable = true)\n",
            " |-- _c15: string (nullable = true)\n",
            " |-- _c16: string (nullable = true)\n",
            " |-- _c17: string (nullable = true)\n",
            " |-- _c18: string (nullable = true)\n",
            " |-- _c19: string (nullable = true)\n",
            " |-- _c20: string (nullable = true)\n",
            " |-- _c21: string (nullable = true)\n",
            " |-- _c22: string (nullable = true)\n",
            " |-- _c23: string (nullable = true)\n",
            " |-- _c24: string (nullable = true)\n",
            " |-- _c25: string (nullable = true)\n",
            " |-- _c26: string (nullable = true)\n",
            " |-- _c27: string (nullable = true)\n",
            " |-- _c28: string (nullable = true)\n",
            " |-- _c29: string (nullable = true)\n",
            " |-- _c30: string (nullable = true)\n",
            "\n",
            "+---+------------+----+-----------------------------------+------+--------------------+----------------------------+----------------------------+--------------+--------------------+------------------+-----+----------+----+----+------------------+----+----+----+---------------+---------+----+----+----+----+----+----+----+----+----+----+\n",
            "| id|        Name|Type|age_at_initial_pathologic_diagnosis|gender|                race|ajcc_pathologic_tumor_stage6|ajcc_pathologic_tumor_stage7|clinical_stage|   histological_type|histological_grade| _c11|      _c12|_c13|_c14|              _c15|_c16|_c17|_c18|           _c19|     _c20|_c21|_c22|_c23|_c24|_c25|_c26|_c27|_c28|_c29|_c30|\n",
            "+---+------------+----+-----------------------------------+------+--------------------+----------------------------+----------------------------+--------------+--------------------+------------------+-----+----------+----+----+------------------+----+----+----+---------------+---------+----+----+----+----+----+----+----+----+----+----+\n",
            "|505|TCGA-3C-AAAU|BRCA|                                 55|FEMALE|               WHITE|                     Stage X|        Infiltrating Lobu...|          2004|Pre (<6 months si...|            -20211|Alive|WITH TUMOR|4047|#N/A|Distant Metastasis|Lung|#N/A|1808|[Not Available]| Negative|#N/A|   0|4047|   0|4047|   1|1808|   1|1808|null|\n",
            "|506|TCGA-3C-AALI|BRCA|                                 50|FEMALE|BLACK OR AFRICAN ...|                   Stage IIB|        Infiltrating Duct...|          2003|Post (prior bilat...|            -18538|Alive|TUMOR FREE|4005|#N/A|              #N/A|#N/A|#N/A|#N/A|[Not Available]| Negative|#N/A|   0|4005|   0|4005|   0|4005|   0|4005|null|\n",
            "|507|TCGA-3C-AALJ|BRCA|                                 62|FEMALE|BLACK OR AFRICAN ...|                   Stage IIB|        Infiltrating Duct...|          2011|Post (prior bilat...|            -22848|Alive|TUMOR FREE|1474|#N/A|              #N/A|#N/A|#N/A|#N/A|[Not Available]| Negative|#N/A|   0|1474|   0|1474|   0|1474|   0|1474|null|\n",
            "|508|TCGA-3C-AALK|BRCA|                                 52|FEMALE|BLACK OR AFRICAN ...|                    Stage IA|        Infiltrating Duct...|          2011|           [Unknown]|            -19074|Alive|TUMOR FREE|1448|#N/A|              #N/A|#N/A|#N/A|#N/A|[Not Available]|    Close|#N/A|   0|1448|   0|1448|#N/A|#N/A|   0|1448|null|\n",
            "|509|TCGA-4H-AAAK|BRCA|                                 50|FEMALE|               WHITE|                  Stage IIIA|        Infiltrating Lobu...|          2013|Post (prior bilat...|            -18371|Alive|TUMOR FREE| 348|#N/A|              #N/A|#N/A|#N/A|#N/A|[Not Available]| Negative|#N/A|   0| 348|   0| 348|   0| 348|   0| 348|null|\n",
            "|510|TCGA-5L-AAT0|BRCA|                                 42|FEMALE|               WHITE|                   Stage IIA|        Infiltrating Lobu...|          2010|Post (prior bilat...|            -15393|Alive|TUMOR FREE|1477|#N/A|              #N/A|#N/A|#N/A|#N/A|[Not Available]| Positive|#N/A|   0|1477|   0|1477|#N/A|#N/A|   0|1477|null|\n",
            "|511|TCGA-5L-AAT1|BRCA|                                 63|FEMALE|               WHITE|                    Stage IV|        Infiltrating Lobu...|          2010|Post (prior bilat...|            -23225|Alive|WITH TUMOR|1471|#N/A|              #N/A|#N/A|#N/A|#N/A|[Not Available]| Negative|#N/A|   0|1471|   0|1471|#N/A|#N/A|   0|1471|null|\n",
            "|512|TCGA-5T-A9QA|BRCA|                                 52|FEMALE|BLACK OR AFRICAN ...|                   Stage IIA|              Other, specify|          2013|           [Unknown]|            -19031|Alive|      #N/A| 303|#N/A|              #N/A|#N/A|#N/A|#N/A|[Not Available]|[Unknown]|#N/A|   0| 303|   0| 303|#N/A|#N/A|   0| 303|null|\n",
            "|513|TCGA-A1-A0SB|BRCA|                                 70|FEMALE|               WHITE|                     Stage I|              Other, specify|          2008|Post (prior bilat...|            -25833|Alive|TUMOR FREE| 259|#N/A|              #N/A|#N/A|#N/A|#N/A|[Not Available]| Negative|#N/A|   0| 259|   0| 259|   0| 259|   0| 259|null|\n",
            "|514|TCGA-A1-A0SD|BRCA|                                 59|FEMALE|               WHITE|                   Stage IIA|        Infiltrating Duct...|          2005|     [Not Available]|            -21793|Alive|      #N/A| 437|#N/A|              #N/A|#N/A|#N/A|#N/A|[Not Available]| Negative|#N/A|   0| 437|   0| 437|   0| 437|   0| 437|null|\n",
            "|515|TCGA-A1-A0SE|BRCA|                                 56|FEMALE|               WHITE|                     Stage I|        Mixed Histology (...|          2005|Pre (<6 months si...|            -20717|Alive|TUMOR FREE|1321|#N/A|              #N/A|#N/A|#N/A|#N/A|[Not Available]| Negative|#N/A|   0|1321|   0|1321|   0|1321|   0|1321|null|\n",
            "|516|TCGA-A1-A0SF|BRCA|                                 54|FEMALE|               WHITE|                   Stage IIA|        Infiltrating Duct...|          2006|Pre (<6 months si...|            -19731|Alive|TUMOR FREE|1463|#N/A|              #N/A|#N/A|#N/A|#N/A|[Not Available]| Negative|#N/A|   0|1463|   0|1463|   0|1463|   0|1463|null|\n",
            "|517|TCGA-A1-A0SG|BRCA|                                 61|FEMALE|               WHITE|                   Stage IIB|              Other, specify|          2006|Post (prior bilat...|            -22380|Alive|      #N/A| 434|#N/A|              #N/A|#N/A|#N/A|#N/A|[Not Available]| Negative|#N/A|   0| 434|   0| 434|   0| 434|   0| 434|null|\n",
            "|518|TCGA-A1-A0SH|BRCA|                                 39|FEMALE|               WHITE|                   Stage IIA|        Infiltrating Duct...|          2006|Pre (<6 months si...|            -14595|Alive|TUMOR FREE|1437|#N/A|              #N/A|#N/A|#N/A|#N/A|[Not Available]| Negative|#N/A|   0|1437|   0|1437|   0|1437|   0|1437|null|\n",
            "|519|TCGA-A1-A0SI|BRCA|                                 52|FEMALE|               WHITE|                   Stage IIB|        Infiltrating Duct...|          2007|     [Not Available]|            -19250|Alive|TUMOR FREE| 635|#N/A|              #N/A|#N/A|#N/A|#N/A|[Not Available]| Negative|#N/A|   0| 635|   0| 635|   0| 635|   0| 635|null|\n",
            "|520|TCGA-A1-A0SJ|BRCA|                                 39|FEMALE|BLACK OR AFRICAN ...|                  Stage IIIA|        Infiltrating Duct...|          2006|     [Not Available]|            -14383|Alive|TUMOR FREE| 416|#N/A|              #N/A|#N/A|#N/A|#N/A|[Not Available]| Negative|#N/A|   0| 416|   0| 416|   0| 416|   0| 416|null|\n",
            "|521|TCGA-A1-A0SK|BRCA|                                 54|FEMALE|               ASIAN|                   Stage IIA|              Other, specify|          2007|Indeterminate (ne...|            -20048| Dead|WITH TUMOR|#N/A| 967|              #N/A|#N/A|#N/A|#N/A|[Not Available]| Negative|#N/A|   1| 967|   1| 967|#N/A|#N/A|   1| 967|null|\n",
            "|522|TCGA-A1-A0SM|BRCA|                                 77|  MALE|               WHITE|                   Stage IIA|        Infiltrating Duct...|          2007|     [Not Available]|            -28198|Alive|TUMOR FREE| 242|#N/A|              #N/A|#N/A|#N/A|#N/A|[Not Available]| Negative|#N/A|   0| 242|   0| 242|   0| 242|   0| 242|null|\n",
            "|523|TCGA-A1-A0SN|BRCA|                                 50|FEMALE|               WHITE|                   Stage IIA|        Infiltrating Duct...|          2007|Post (prior bilat...|            -18401|Alive|TUMOR FREE|1196|#N/A|              #N/A|#N/A|#N/A|#N/A|[Not Available]| Negative|#N/A|   0|1196|   0|1196|   0|1196|   0|1196|null|\n",
            "|524|TCGA-A1-A0SO|BRCA|                                 67|FEMALE|               WHITE|                   Stage IIB|        Infiltrating Duct...|          2007|Post (prior bilat...|            -24826|Alive|TUMOR FREE| 852|#N/A|              #N/A|#N/A|#N/A|#N/A|[Not Available]| Negative|#N/A|   0| 852|   0| 852|   0| 852|   0| 852|null|\n",
            "+---+------------+----+-----------------------------------+------+--------------------+----------------------------+----------------------------+--------------+--------------------+------------------+-----+----------+----+----+------------------+----+----+----+---------------+---------+----+----+----+----+----+----+----+----+----+----+\n",
            "only showing top 20 rows\n",
            "\n"
          ],
          "name": "stdout"
        },
        {
          "output_type": "execute_result",
          "data": {
            "text/plain": [
              "1097"
            ]
          },
          "metadata": {
            "tags": []
          },
          "execution_count": 45
        }
      ]
    },
    {
      "cell_type": "code",
      "metadata": {
        "colab": {
          "base_uri": "https://localhost:8080/"
        },
        "id": "MReJmbGy_3FD",
        "outputId": "b7e99211-6d00-4bd8-83ae-969351353ba3"
      },
      "source": [
        "def match_with_thumbnail_list(x):\n",
        "  strings_with_substring = [string for string in thubnail_list if x in string]\n",
        "  if len(strings_with_substring) == 0:\n",
        "    returning = \"\"\n",
        "  else:\n",
        "    returning = strings_with_substring[0]\n",
        "  if len(strings_with_substring) > 1: # If more than one is returned then I wanna know\n",
        "    print(len(strings_with_substring))\n",
        "  return returning\n",
        "\n",
        "func_udf = udf(match_with_thumbnail_list)  # pyspark.sql.functions include udf()\n",
        "\n",
        "tcga_table = tcga_table.withColumn(\"original_thumnail_names\", func_udf('Name'))\n",
        "tcga_table.show()\n",
        "tcga_table.count()"
      ],
      "execution_count": null,
      "outputs": [
        {
          "output_type": "stream",
          "text": [
            "+---+------------+----+-----------------------------------+------+--------------------+----------------------------+----------------------------+--------------+--------------------+------------------+-----+----------+----+----+------------------+----+----+----+---------------+---------+----+----+----+----+----+----+----+----+----+----+-----------------------+\n",
            "| id|        Name|Type|age_at_initial_pathologic_diagnosis|gender|                race|ajcc_pathologic_tumor_stage6|ajcc_pathologic_tumor_stage7|clinical_stage|   histological_type|histological_grade| _c11|      _c12|_c13|_c14|              _c15|_c16|_c17|_c18|           _c19|     _c20|_c21|_c22|_c23|_c24|_c25|_c26|_c27|_c28|_c29|_c30|original_thumnail_names|\n",
            "+---+------------+----+-----------------------------------+------+--------------------+----------------------------+----------------------------+--------------+--------------------+------------------+-----+----------+----+----+------------------+----+----+----+---------------+---------+----+----+----+----+----+----+----+----+----+----+-----------------------+\n",
            "|505|TCGA-3C-AAAU|BRCA|                                 55|FEMALE|               WHITE|                     Stage X|        Infiltrating Lobu...|          2004|Pre (<6 months si...|            -20211|Alive|WITH TUMOR|4047|#N/A|Distant Metastasis|Lung|#N/A|1808|[Not Available]| Negative|#N/A|   0|4047|   0|4047|   1|1808|   1|1808|null|                       |\n",
            "|506|TCGA-3C-AALI|BRCA|                                 50|FEMALE|BLACK OR AFRICAN ...|                   Stage IIB|        Infiltrating Duct...|          2003|Post (prior bilat...|            -18538|Alive|TUMOR FREE|4005|#N/A|              #N/A|#N/A|#N/A|#N/A|[Not Available]| Negative|#N/A|   0|4005|   0|4005|   0|4005|   0|4005|null|                       |\n",
            "|507|TCGA-3C-AALJ|BRCA|                                 62|FEMALE|BLACK OR AFRICAN ...|                   Stage IIB|        Infiltrating Duct...|          2011|Post (prior bilat...|            -22848|Alive|TUMOR FREE|1474|#N/A|              #N/A|#N/A|#N/A|#N/A|[Not Available]| Negative|#N/A|   0|1474|   0|1474|   0|1474|   0|1474|null|   TCGA-3C-AALJ-01Z-...|\n",
            "|508|TCGA-3C-AALK|BRCA|                                 52|FEMALE|BLACK OR AFRICAN ...|                    Stage IA|        Infiltrating Duct...|          2011|           [Unknown]|            -19074|Alive|TUMOR FREE|1448|#N/A|              #N/A|#N/A|#N/A|#N/A|[Not Available]|    Close|#N/A|   0|1448|   0|1448|#N/A|#N/A|   0|1448|null|   TCGA-3C-AALK-01Z-...|\n",
            "|509|TCGA-4H-AAAK|BRCA|                                 50|FEMALE|               WHITE|                  Stage IIIA|        Infiltrating Lobu...|          2013|Post (prior bilat...|            -18371|Alive|TUMOR FREE| 348|#N/A|              #N/A|#N/A|#N/A|#N/A|[Not Available]| Negative|#N/A|   0| 348|   0| 348|   0| 348|   0| 348|null|                       |\n",
            "|510|TCGA-5L-AAT0|BRCA|                                 42|FEMALE|               WHITE|                   Stage IIA|        Infiltrating Lobu...|          2010|Post (prior bilat...|            -15393|Alive|TUMOR FREE|1477|#N/A|              #N/A|#N/A|#N/A|#N/A|[Not Available]| Positive|#N/A|   0|1477|   0|1477|#N/A|#N/A|   0|1477|null|                       |\n",
            "|511|TCGA-5L-AAT1|BRCA|                                 63|FEMALE|               WHITE|                    Stage IV|        Infiltrating Lobu...|          2010|Post (prior bilat...|            -23225|Alive|WITH TUMOR|1471|#N/A|              #N/A|#N/A|#N/A|#N/A|[Not Available]| Negative|#N/A|   0|1471|   0|1471|#N/A|#N/A|   0|1471|null|   TCGA-5L-AAT1-01Z-...|\n",
            "|512|TCGA-5T-A9QA|BRCA|                                 52|FEMALE|BLACK OR AFRICAN ...|                   Stage IIA|              Other, specify|          2013|           [Unknown]|            -19031|Alive|      #N/A| 303|#N/A|              #N/A|#N/A|#N/A|#N/A|[Not Available]|[Unknown]|#N/A|   0| 303|   0| 303|#N/A|#N/A|   0| 303|null|                       |\n",
            "|513|TCGA-A1-A0SB|BRCA|                                 70|FEMALE|               WHITE|                     Stage I|              Other, specify|          2008|Post (prior bilat...|            -25833|Alive|TUMOR FREE| 259|#N/A|              #N/A|#N/A|#N/A|#N/A|[Not Available]| Negative|#N/A|   0| 259|   0| 259|   0| 259|   0| 259|null|                       |\n",
            "|514|TCGA-A1-A0SD|BRCA|                                 59|FEMALE|               WHITE|                   Stage IIA|        Infiltrating Duct...|          2005|     [Not Available]|            -21793|Alive|      #N/A| 437|#N/A|              #N/A|#N/A|#N/A|#N/A|[Not Available]| Negative|#N/A|   0| 437|   0| 437|   0| 437|   0| 437|null|   TCGA-A1-A0SD-01Z-...|\n",
            "|515|TCGA-A1-A0SE|BRCA|                                 56|FEMALE|               WHITE|                     Stage I|        Mixed Histology (...|          2005|Pre (<6 months si...|            -20717|Alive|TUMOR FREE|1321|#N/A|              #N/A|#N/A|#N/A|#N/A|[Not Available]| Negative|#N/A|   0|1321|   0|1321|   0|1321|   0|1321|null|   TCGA-A1-A0SE-01Z-...|\n",
            "|516|TCGA-A1-A0SF|BRCA|                                 54|FEMALE|               WHITE|                   Stage IIA|        Infiltrating Duct...|          2006|Pre (<6 months si...|            -19731|Alive|TUMOR FREE|1463|#N/A|              #N/A|#N/A|#N/A|#N/A|[Not Available]| Negative|#N/A|   0|1463|   0|1463|   0|1463|   0|1463|null|   TCGA-A1-A0SF-01Z-...|\n",
            "|517|TCGA-A1-A0SG|BRCA|                                 61|FEMALE|               WHITE|                   Stage IIB|              Other, specify|          2006|Post (prior bilat...|            -22380|Alive|      #N/A| 434|#N/A|              #N/A|#N/A|#N/A|#N/A|[Not Available]| Negative|#N/A|   0| 434|   0| 434|   0| 434|   0| 434|null|                       |\n",
            "|518|TCGA-A1-A0SH|BRCA|                                 39|FEMALE|               WHITE|                   Stage IIA|        Infiltrating Duct...|          2006|Pre (<6 months si...|            -14595|Alive|TUMOR FREE|1437|#N/A|              #N/A|#N/A|#N/A|#N/A|[Not Available]| Negative|#N/A|   0|1437|   0|1437|   0|1437|   0|1437|null|   TCGA-A1-A0SH-01Z-...|\n",
            "|519|TCGA-A1-A0SI|BRCA|                                 52|FEMALE|               WHITE|                   Stage IIB|        Infiltrating Duct...|          2007|     [Not Available]|            -19250|Alive|TUMOR FREE| 635|#N/A|              #N/A|#N/A|#N/A|#N/A|[Not Available]| Negative|#N/A|   0| 635|   0| 635|   0| 635|   0| 635|null|                       |\n",
            "|520|TCGA-A1-A0SJ|BRCA|                                 39|FEMALE|BLACK OR AFRICAN ...|                  Stage IIIA|        Infiltrating Duct...|          2006|     [Not Available]|            -14383|Alive|TUMOR FREE| 416|#N/A|              #N/A|#N/A|#N/A|#N/A|[Not Available]| Negative|#N/A|   0| 416|   0| 416|   0| 416|   0| 416|null|   TCGA-A1-A0SJ-01Z-...|\n",
            "|521|TCGA-A1-A0SK|BRCA|                                 54|FEMALE|               ASIAN|                   Stage IIA|              Other, specify|          2007|Indeterminate (ne...|            -20048| Dead|WITH TUMOR|#N/A| 967|              #N/A|#N/A|#N/A|#N/A|[Not Available]| Negative|#N/A|   1| 967|   1| 967|#N/A|#N/A|   1| 967|null|                       |\n",
            "|522|TCGA-A1-A0SM|BRCA|                                 77|  MALE|               WHITE|                   Stage IIA|        Infiltrating Duct...|          2007|     [Not Available]|            -28198|Alive|TUMOR FREE| 242|#N/A|              #N/A|#N/A|#N/A|#N/A|[Not Available]| Negative|#N/A|   0| 242|   0| 242|   0| 242|   0| 242|null|                       |\n",
            "|523|TCGA-A1-A0SN|BRCA|                                 50|FEMALE|               WHITE|                   Stage IIA|        Infiltrating Duct...|          2007|Post (prior bilat...|            -18401|Alive|TUMOR FREE|1196|#N/A|              #N/A|#N/A|#N/A|#N/A|[Not Available]| Negative|#N/A|   0|1196|   0|1196|   0|1196|   0|1196|null|   TCGA-A1-A0SN-01Z-...|\n",
            "|524|TCGA-A1-A0SO|BRCA|                                 67|FEMALE|               WHITE|                   Stage IIB|        Infiltrating Duct...|          2007|Post (prior bilat...|            -24826|Alive|TUMOR FREE| 852|#N/A|              #N/A|#N/A|#N/A|#N/A|[Not Available]| Negative|#N/A|   0| 852|   0| 852|   0| 852|   0| 852|null|                       |\n",
            "+---+------------+----+-----------------------------------+------+--------------------+----------------------------+----------------------------+--------------+--------------------+------------------+-----+----------+----+----+------------------+----+----+----+---------------+---------+----+----+----+----+----+----+----+----+----+----+-----------------------+\n",
            "only showing top 20 rows\n",
            "\n"
          ],
          "name": "stdout"
        },
        {
          "output_type": "execute_result",
          "data": {
            "text/plain": [
              "1097"
            ]
          },
          "metadata": {
            "tags": []
          },
          "execution_count": 46
        }
      ]
    },
    {
      "cell_type": "code",
      "metadata": {
        "colab": {
          "base_uri": "https://localhost:8080/"
        },
        "id": "NMzZO1YmZq_b",
        "outputId": "57d641f4-04be-4e07-c663-fd91d4d4f067"
      },
      "source": [
        "cancer_stage_list = tcga_table.select(\"ajcc_pathologic_tumor_stage6\").distinct().rdd.map(lambda r: r[0]).collect()\n",
        "cancer_stage_list"
      ],
      "execution_count": null,
      "outputs": [
        {
          "output_type": "execute_result",
          "data": {
            "text/plain": [
              "['Stage IIIB',\n",
              " 'Stage III',\n",
              " 'Stage IIB',\n",
              " 'Stage IIIA',\n",
              " 'Stage IV',\n",
              " 'Stage X',\n",
              " '[Not Available]',\n",
              " 'Stage IIIC',\n",
              " '[Discrepancy]',\n",
              " 'Stage IB',\n",
              " 'Stage I',\n",
              " 'Stage IA',\n",
              " 'Stage II',\n",
              " 'Stage IIA']"
            ]
          },
          "metadata": {
            "tags": []
          },
          "execution_count": 56
        }
      ]
    },
    {
      "cell_type": "code",
      "metadata": {
        "colab": {
          "base_uri": "https://localhost:8080/"
        },
        "id": "pNsKmWQUbBCa",
        "outputId": "071c1317-3fa5-42f6-a53b-b0eabceab6f8"
      },
      "source": [
        "cancer_substage_list = tcga_table.select(\"ajcc_pathologic_tumor_stage7\").distinct().rdd.map(lambda r: r[0]).collect()\n",
        "cancer_substage_list"
      ],
      "execution_count": null,
      "outputs": [
        {
          "output_type": "execute_result",
          "data": {
            "text/plain": [
              "['Other, specify',\n",
              " 'Medullary Carcinoma',\n",
              " 'Mixed Histology (please specify)',\n",
              " '[Not Available]',\n",
              " 'Infiltrating Carcinoma NOS',\n",
              " 'Infiltrating Ductal Carcinoma',\n",
              " 'Metaplastic Carcinoma',\n",
              " 'Infiltrating Lobular Carcinoma',\n",
              " 'Mucinous Carcinoma']"
            ]
          },
          "metadata": {
            "tags": []
          },
          "execution_count": 57
        }
      ]
    },
    {
      "cell_type": "markdown",
      "metadata": {
        "id": "_9NLdduUOaPA"
      },
      "source": [
        "# Saving TCGA list with respect to TNM stage and Subtype"
      ]
    },
    {
      "cell_type": "code",
      "metadata": {
        "id": "tHTAVhxDbUL0"
      },
      "source": [
        "for typeCancer in cancer_stage_list:\n",
        "  for subtype in cancer_substage_list:\n",
        "    temp_table = tcga_table.select(\"id\", \"original_thumnail_names\", \"Name\", \"ajcc_pathologic_tumor_stage6\", \"ajcc_pathologic_tumor_stage7\").filter((tcga_table[\"ajcc_pathologic_tumor_stage6\"] == typeCancer) & (tcga_table[\"ajcc_pathologic_tumor_stage7\"] == subtype)  & (tcga_table.original_thumnail_names != \"\"))\n",
        "    if temp_table.count() > 0:\n",
        "      save_path= \"/content/drive/MyDrive/AIDPath/Stages_categorized_thumbnails/\"+typeCancer+\"_\"+subtype+\".csv\"\n",
        "      temp_table.toPandas().to_csv(save_path)"
      ],
      "execution_count": null,
      "outputs": []
    }
  ]
}